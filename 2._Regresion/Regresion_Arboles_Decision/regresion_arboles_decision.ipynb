{
 "cells": [
  {
   "cell_type": "code",
   "execution_count": 1,
   "source": [
    "# Librerias principales\r\n",
    "import matplotlib.pyplot as plt\r\n",
    "import numpy as np\r\n",
    "import pandas as pd"
   ],
   "outputs": [],
   "metadata": {}
  },
  {
   "cell_type": "code",
   "execution_count": 2,
   "source": [
    "# Importamos el dataset\r\n",
    "dataset = pd.read_csv(\"Position_Salaries.csv\")"
   ],
   "outputs": [],
   "metadata": {}
  },
  {
   "cell_type": "code",
   "execution_count": 3,
   "source": [
    "# Separamos la variable dependiente | independiente\r\n",
    "X = dataset.iloc[:,1:2].values\r\n",
    "y = dataset.iloc[:,2].values"
   ],
   "outputs": [],
   "metadata": {}
  },
  {
   "cell_type": "code",
   "execution_count": 4,
   "source": [
    "# Creacion del modelo con arboles de decision\r\n",
    "from sklearn.tree import DecisionTreeRegressor\r\n",
    "regression = DecisionTreeRegressor(random_state=0)\r\n",
    "regression.fit(X,y)"
   ],
   "outputs": [
    {
     "output_type": "execute_result",
     "data": {
      "text/plain": [
       "DecisionTreeRegressor(ccp_alpha=0.0, criterion='mse', max_depth=None,\n",
       "                      max_features=None, max_leaf_nodes=None,\n",
       "                      min_impurity_decrease=0.0, min_impurity_split=None,\n",
       "                      min_samples_leaf=1, min_samples_split=2,\n",
       "                      min_weight_fraction_leaf=0.0, presort='deprecated',\n",
       "                      random_state=0, splitter='best')"
      ]
     },
     "metadata": {},
     "execution_count": 4
    }
   ],
   "metadata": {}
  },
  {
   "cell_type": "code",
   "execution_count": 5,
   "source": [
    "# prediccion salario 6.5\r\n",
    "y_pred = regression.predict([[6.5]])"
   ],
   "outputs": [],
   "metadata": {}
  },
  {
   "cell_type": "code",
   "execution_count": 6,
   "source": [
    "X_grid = np.arange(min(X), max(X),0.1)\r\n",
    "X_grid = X_grid.reshape(len(X_grid),1)"
   ],
   "outputs": [],
   "metadata": {}
  },
  {
   "cell_type": "code",
   "execution_count": 8,
   "source": [
    "plt.scatter(X, y, color = \"red\")\r\n",
    "plt.plot(X,regression.predict(X), color=\"blue\")\r\n",
    "plt.title(\"Modelo de regresion\")\r\n",
    "plt.xlabel(\"Posicion del empleado\")\r\n",
    "plt.ylabel(\"Sueldo (en $)\")\r\n",
    "plt.show()"
   ],
   "outputs": [
    {
     "output_type": "display_data",
     "data": {
      "image/png": "[encoded data removed]",
      "text/plain": [
       "<Figure size 432x288 with 1 Axes>"
      ]
     },
     "metadata": {
      "needs_background": "light"
     }
    }
   ],
   "metadata": {}
  },
  {
   "cell_type": "code",
   "execution_count": null,
   "source": [],
   "outputs": [],
   "metadata": {}
  }
 ],
 "metadata": {
  "orig_nbformat": 4,
  "language_info": {
   "name": "python",
   "version": "3.7.6",
   "mimetype": "text/x-python",
   "codemirror_mode": {
    "name": "ipython",
    "version": 3
   },
   "pygments_lexer": "ipython3",
   "nbconvert_exporter": "python",
   "file_extension": ".py"
  },
  "kernelspec": {
   "name": "python3",
   "display_name": "Python 3.7.10 64-bit ('base': conda)"
  },
  "interpreter": {
   "hash": "2bce41496096575961fbd894fb13faf1b31f5d235eabce2efb099e424a8eb2dc"
  }
 },
 "nbformat": 4,
 "nbformat_minor": 2
}