{
 "cells": [
  {
   "cell_type": "code",
   "execution_count": 35,
   "source": [
    "# CARGA DE LIBRERIAS\r\n",
    "import pandas as pd\r\n",
    "import numpy as np\r\n",
    "import matplotlib.pyplot as plt"
   ],
   "outputs": [],
   "metadata": {}
  },
  {
   "cell_type": "code",
   "execution_count": 36,
   "source": [
    "# Carga dataset\r\n",
    "dataset = pd.read_csv(\"Position_Salaries.csv\")"
   ],
   "outputs": [],
   "metadata": {}
  },
  {
   "cell_type": "code",
   "execution_count": 37,
   "source": [
    "# Variables X y\r\n",
    "X = dataset.iloc[:,1:2].values\r\n",
    "y = dataset.iloc[:,2].values"
   ],
   "outputs": [],
   "metadata": {}
  },
  {
   "cell_type": "code",
   "execution_count": 38,
   "source": [
    "from sklearn.preprocessing import StandardScaler\r\n",
    "sc_X = StandardScaler()\r\n",
    "sc_y = StandardScaler()\r\n",
    "X = sc_X.fit_transform(X)\r\n",
    "y = sc_y.fit_transform(y.reshape(-1,1))"
   ],
   "outputs": [],
   "metadata": {}
  },
  {
   "cell_type": "code",
   "execution_count": 39,
   "source": [
    "# Ajustar la regresión con de datasets\r\n",
    "from sklearn.svm import SVR\r\n",
    "\r\n",
    "regression = SVR(kernel=\"rbf\")\r\n",
    "regression.fit(X,y)"
   ],
   "outputs": [
    {
     "output_type": "stream",
     "name": "stderr",
     "text": [
      "C:\\Users\\plerzundi\\anaconda3\\lib\\site-packages\\sklearn\\utils\\validation.py:63: DataConversionWarning: A column-vector y was passed when a 1d array was expected. Please change the shape of y to (n_samples, ), for example using ravel().\n",
      "  return f(*args, **kwargs)\n"
     ]
    },
    {
     "output_type": "execute_result",
     "data": {
      "text/plain": [
       "SVR()"
      ]
     },
     "metadata": {},
     "execution_count": 39
    }
   ],
   "metadata": {}
  },
  {
   "cell_type": "code",
   "execution_count": 40,
   "source": [
    "# Prediccion de nuestros modelos SVR\r\n",
    "y_pred =sc_y.inverse_transform(regression.predict(sc_X.transform(np.array([[6.5],[6.4]]))))"
   ],
   "outputs": [],
   "metadata": {}
  },
  {
   "cell_type": "code",
   "execution_count": 41,
   "source": [
    "# Visualizacion de los resultados con SVR\r\n",
    "X_grid = np.arange(min(X),max(X),0.1)\r\n",
    "X_grid = X_grid.reshape(len(X_grid),1)\r\n",
    "plt.scatter(X,y,color=\"red\")\r\n",
    "plt.plot(X_grid,regression.predict(X_grid), color=\"blue\")\r\n",
    "plt.xlabel(\"Modelo de Regresión (SVR)\")\r\n",
    "plt.ylabel(\"Sueldo (en $)\")\r\n",
    "plt.show()"
   ],
   "outputs": [
    {
     "output_type": "display_data",
     "data": {
      "image/png": "[encoded data removed]",
      "text/plain": [
       "<Figure size 432x288 with 1 Axes>"
      ]
     },
     "metadata": {
      "needs_background": "light"
     }
    }
   ],
   "metadata": {}
  },
  {
   "cell_type": "code",
   "execution_count": null,
   "source": [],
   "outputs": [],
   "metadata": {}
  }
 ],
 "metadata": {
  "orig_nbformat": 4,
  "language_info": {
   "name": "python",
   "version": "3.8.8",
   "mimetype": "text/x-python",
   "codemirror_mode": {
    "name": "ipython",
    "version": 3
   },
   "pygments_lexer": "ipython3",
   "nbconvert_exporter": "python",
   "file_extension": ".py"
  },
  "kernelspec": {
   "name": "python3",
   "display_name": "Python 3.8.8 64-bit ('base': conda)"
  },
  "interpreter": {
   "hash": "2bce41496096575961fbd894fb13faf1b31f5d235eabce2efb099e424a8eb2dc"
  }
 },
 "nbformat": 4,
 "nbformat_minor": 2
}