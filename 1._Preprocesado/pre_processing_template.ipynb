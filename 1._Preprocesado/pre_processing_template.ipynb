{
 "cells": [
  {
   "cell_type": "markdown",
   "source": [
    "PLANTILLA PREPROCESADO CON PYTHON"
   ],
   "metadata": {}
  },
  {
   "cell_type": "code",
   "execution_count": 9,
   "source": [
    "# Carga de librerias\r\n",
    "import matplotlib.pyplot as plt\r\n",
    "import numpy as np\r\n",
    "import pandas as pd\r\n",
    "\r\n",
    "# para sacar la media de los datos faltantes\r\n",
    "from sklearn.impute import SimpleImputer\r\n",
    "from sklearn import preprocessing\r\n",
    "from sklearn.preprocessing import OneHotEncoder\r\n",
    "from sklearn.compose import ColumnTransformer"
   ],
   "outputs": [],
   "metadata": {}
  },
  {
   "cell_type": "code",
   "execution_count": 10,
   "source": [
    "# Importar el datasets\r\n",
    "datasets = pd.read_csv(\"Data.csv\")"
   ],
   "outputs": [],
   "metadata": {}
  },
  {
   "cell_type": "code",
   "execution_count": 11,
   "source": [
    "# Separar X y del dataset\r\n",
    "X = datasets.iloc[:,:-1].values\r\n",
    "y = datasets.iloc[:,-1:].values"
   ],
   "outputs": [],
   "metadata": {}
  },
  {
   "cell_type": "code",
   "execution_count": 12,
   "source": [
    "# Tratamiento de NAs\r\n",
    "imputer = SimpleImputer(missing_values=np.nan,strategy=\"mean\")\r\n",
    "X[:,1:3] = imputer.fit_transform(X[:,1:3])"
   ],
   "outputs": [],
   "metadata": {}
  },
  {
   "cell_type": "code",
   "execution_count": 13,
   "source": [
    "# Codificar datos categoricos de paises, podemos aplicar dummy a cualquiera de la columnas\r\n",
    "labelencoder_X = preprocessing.LabelEncoder()\r\n",
    "X[:,0] = labelencoder_X.fit_transform(X[:,0])\r\n"
   ],
   "outputs": [],
   "metadata": {}
  },
  {
   "cell_type": "code",
   "execution_count": 14,
   "source": [
    "ct = ColumnTransformer([('one_hot_encoder',OneHotEncoder(categories='auto'),[0])],remainder='passthrough')\r\n",
    "X = np.array(ct.fit_transform(X),dtype=np.float32)"
   ],
   "outputs": [],
   "metadata": {}
  },
  {
   "cell_type": "code",
   "execution_count": 15,
   "source": [
    "labelencoder_y = preprocessing.LabelEncoder()\r\n",
    "y[:,0] = labelencoder_y.fit_transform(y[:,0])"
   ],
   "outputs": [],
   "metadata": {}
  },
  {
   "cell_type": "code",
   "execution_count": 17,
   "source": [
    "# dividir el training set en conjunto de entrenamiento con testing\r\n",
    "from sklearn.model_selection import train_test_split\r\n",
    "X_train,X_test,y_train,y_test = train_test_split(X,y,test_size=0.2,random_state=0)\r\n"
   ],
   "outputs": [],
   "metadata": {}
  },
  {
   "cell_type": "code",
   "execution_count": null,
   "source": [
    "# Escalado de variables\r\n",
    "from sklearn.preprocessing import StandardScaler\r\n",
    "\r\n",
    "sc_X = StandardScaler()\r\n",
    "X_train = sc_X.fit_transform(X_train)\r\n",
    "X_test = sc_X.transform(X_test)"
   ],
   "outputs": [],
   "metadata": {}
  }
 ],
 "metadata": {
  "orig_nbformat": 4,
  "language_info": {
   "name": "python",
   "version": "3.8.8",
   "mimetype": "text/x-python",
   "codemirror_mode": {
    "name": "ipython",
    "version": 3
   },
   "pygments_lexer": "ipython3",
   "nbconvert_exporter": "python",
   "file_extension": ".py"
  },
  "kernelspec": {
   "name": "python3",
   "display_name": "Python 3.8.8 64-bit ('base': conda)"
  },
  "interpreter": {
   "hash": "2bce41496096575961fbd894fb13faf1b31f5d235eabce2efb099e424a8eb2dc"
  }
 },
 "nbformat": 4,
 "nbformat_minor": 2
}